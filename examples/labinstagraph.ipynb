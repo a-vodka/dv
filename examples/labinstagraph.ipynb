{
  "cells": [
    {
      "cell_type": "code",
      "execution_count": null,
      "metadata": {
        "id": "nYlP32xM-HJe"
      },
      "outputs": [],
      "source": [
        "!pip install instagrapi"
      ]
    },
    {
      "cell_type": "code",
      "source": [
        "import matplotlib.pyplot as plt\n",
        "import networkx as nx\n",
        "from instagrapi import Client\n",
        "from instagrapi.exceptions import TwoFactorRequired\n",
        "from instagrapi.types import UserShort\n",
        "\n",
        "MAX_FOLLOWINGS_COUNT = 20  # Max number of followers\n",
        "# Login to Instagram\n",
        "instagram_client = Client()\n",
        "\n",
        "# Set deley according to recomendation\n",
        "instagram_client.delay_range = [1, 5]\n",
        "\n",
        "USERNAME = input(\"input user name:\")\n",
        "PASSWORD = input(\"input user password:\")\n",
        "\n",
        "# check for login and password is not empty\n",
        "assert USERNAME, 'LOGIN should be inputed'\n",
        "assert PASSWORD, 'PASSWORD should be inputed'\n",
        "\n",
        "# try-except check for two factor autorization\n",
        "try:\n",
        "    instagram_client.login(USERNAME, PASSWORD)\n",
        "    print(\"Logged in successfully\")\n",
        "except TwoFactorRequired:\n",
        "    print(\"Two-factor authentication required. Please disable it in your Instagram settings.\")\n",
        "    raise\n"
      ],
      "metadata": {
        "id": "ePWzlh6wJOVC"
      },
      "execution_count": null,
      "outputs": []
    },
    {
      "cell_type": "code",
      "execution_count": null,
      "metadata": {
        "id": "hwQ6C8v8-JQk"
      },
      "outputs": [],
      "source": [
        "# Fetch our followers\n",
        "my_followings = instagram_client.user_following(user_id=instagram_client.user_id, amount=MAX_FOLLOWINGS_COUNT)\n",
        "\n",
        "my_followings_names = [user.username for user in my_followings.values()]\n",
        "\n",
        "G = nx.Graph()\n",
        "G.add_node(instagram_client.username, label=instagram_client.username)\n",
        "\n",
        "for following in my_followings.values():\n",
        "    G.add_node(following.username, label=following.full_name)\n",
        "    G.add_edge(instagram_client.username, following.username)\n",
        "\n",
        "# Fetch followers of our followings\n",
        "for person in my_followings.values():\n",
        "    try:\n",
        "        print(f'Processing following person: [{person.username}] followings...')\n",
        "        following_followings = instagram_client.user_following(person.pk)\n",
        "        for following in following_followings.values():\n",
        "            if following.username in my_followings_names:\n",
        "                G.add_node(following.username, label=following.full_name)\n",
        "                G.add_edge(person.username, following.username)\n",
        "    except Exception as e:\n",
        "        print(f\"Error fetching data for {person.username}: {e}\")\n",
        "\n",
        "print('Saving graph...')\n",
        "# Save the graph in gexf format\n",
        "nx.write_gexf(G, \"InstaFriends.gexf\")\n",
        "\n",
        "# Visualize the graph\n",
        "print(\"Drawing...\")\n",
        "nx.draw_spring(G, with_labels=True, font_weight='bold', font_size=5)\n",
        "plt.savefig('InstaGraf.png', dpi=600)\n",
        "plt.show()\n"
      ]
    }
  ],
  "metadata": {
    "colab": {
      "provenance": []
    },
    "kernelspec": {
      "display_name": "Python 3",
      "name": "python3"
    },
    "language_info": {
      "name": "python"
    }
  },
  "nbformat": 4,
  "nbformat_minor": 0
}